{
 "cells": [
  {
   "cell_type": "markdown",
   "metadata": {},
   "source": [
    "# Playground"
   ]
  },
  {
   "cell_type": "code",
   "execution_count": 1,
   "metadata": {},
   "outputs": [],
   "source": [
    "import os, sys\n",
    "module_path = os.path.abspath(os.path.join('..'))\n",
    "if module_path not in sys.path:\n",
    "    sys.path.append(module_path)"
   ]
  },
  {
   "cell_type": "code",
   "execution_count": 2,
   "metadata": {},
   "outputs": [],
   "source": [
    "from pyspecs import *\n",
    "from fermi import *"
   ]
  },
  {
   "cell_type": "code",
   "execution_count": 3,
   "metadata": {},
   "outputs": [],
   "source": [
    "world = fermi_world()"
   ]
  },
  {
   "cell_type": "code",
   "execution_count": 4,
   "metadata": {},
   "outputs": [],
   "source": [
    "for _ in range(20):\n",
    "    world.run()"
   ]
  },
  {
   "cell_type": "code",
   "execution_count": 5,
   "metadata": {},
   "outputs": [
    {
     "name": "stdout",
     "output_type": "stream",
     "text": [
      "12 Age: 9, Max age: 11 Position: (4.454062979729533, -5.550915103677187, 0.0010484919288855199)\n",
      "14 Age: 7, Max age: 12 Position: (7.860302231922056, -2.123060353301982, 0.282986354491697)\n",
      "15 Age: 6, Max age: 9 Position: (19.79263681760324, -8.061492004436495, 0.13018933353316653)\n",
      "16 Age: 5, Max age: 7 Position: (4.01510060153692, 22.11978257444965, 0.11551125172106831)\n",
      "17 Age: 4, Max age: 6 Position: (-14.148061055772027, -3.0080604719385997, 0.315361532254973)\n",
      "18 Age: 3, Max age: 9 Position: (-17.220197553505685, 6.471994653109948, 0.054665337900344425)\n",
      "19 Age: 2, Max age: 7 Position: (-6.584910889126814, 20.1220886405645, 0.08101638313048572)\n",
      "20 Age: 1, Max age: 10 Position: (-17.519379372129517, -5.067595848593224, 0.01865402692085145)\n"
     ]
    }
   ],
   "source": [
    "age_store = world.get_storage(SunlikeStarAge)\n",
    "pos_store = world.get_storage(SunlikeStarPosition)\n",
    "for (ent, age, pos) in Storage.join(age_store, pos_store):\n",
    "    print(ent, age, pos)"
   ]
  },
  {
   "cell_type": "code",
   "execution_count": null,
   "metadata": {},
   "outputs": [],
   "source": []
  }
 ],
 "metadata": {
  "kernelspec": {
   "display_name": "Python 3",
   "language": "python",
   "name": "python3"
  },
  "language_info": {
   "codemirror_mode": {
    "name": "ipython",
    "version": 3
   },
   "file_extension": ".py",
   "mimetype": "text/x-python",
   "name": "python",
   "nbconvert_exporter": "python",
   "pygments_lexer": "ipython3",
   "version": "3.7.1"
  }
 },
 "nbformat": 4,
 "nbformat_minor": 4
}
