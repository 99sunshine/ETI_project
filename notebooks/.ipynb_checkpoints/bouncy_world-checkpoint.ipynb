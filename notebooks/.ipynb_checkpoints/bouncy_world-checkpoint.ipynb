{
 "cells": [
  {
   "cell_type": "markdown",
   "metadata": {},
   "source": [
    "# PySpecs Tutorial: Bouncy World"
   ]
  },
  {
   "cell_type": "markdown",
   "metadata": {},
   "source": [
    "In this tutorial we are going to implement a bouncy world. We first start by importing libraries."
   ]
  },
  {
   "cell_type": "code",
   "execution_count": null,
   "metadata": {},
   "outputs": [],
   "source": [
    "import os, sys\n",
    "module_path = os.path.abspath(os.path.join('..'))\n",
    "if module_path not in sys.path:\n",
    "    sys.path.append(module_path)"
   ]
  },
  {
   "cell_type": "markdown",
   "metadata": {},
   "source": [
    "We import our Entity-Component-System framework, pyspecs, as well as an `AnimatedScatter` for animating the result.\n",
    "\n",
    "> Since we need to output an html video in the end, please install `ffmpeg`, a video generator package, if you have not done so yet:\n",
    "> ``` bash\n",
    "> $ conda install -c conda-forge ffmpeg\n",
    "> ```"
   ]
  },
  {
   "cell_type": "code",
   "execution_count": null,
   "metadata": {},
   "outputs": [],
   "source": [
    "from pyspecs import *\n",
    "from utils import AnimatedScatter"
   ]
  },
  {
   "cell_type": "code",
   "execution_count": null,
   "metadata": {},
   "outputs": [],
   "source": [
    "%matplotlib inline\n",
    "from random import random\n",
    "import numpy as np\n",
    "import math"
   ]
  },
  {
   "cell_type": "markdown",
   "metadata": {},
   "source": [
    "For this system we want to do a simulation where a bunch of points have different positions and velocities. It will move along a line until it hits a wall, and bounce back. So that all the points will stay inside the box.\n",
    "\n",
    "We first say we only care the box from `(0, 0)` to `(50, 50)`. So the point can be anywhere inside this box. Also, velocities can be pointing toward any direction, and we allow certain range of speed variation."
   ]
  },
  {
   "cell_type": "markdown",
   "metadata": {},
   "source": [
    "To work on this problem, we need to think about what components do we need for our simulation. We of course need velocity and position. But do we put them in the same component or separate? The answer right here is separate. Because, think about the systems we might need, we can separate the simulation and visualization. While simulation might need both position and velocity, the visualization actually only needs the position."
   ]
  },
  {
   "cell_type": "markdown",
   "metadata": {},
   "source": [
    "Therefore we first implement the two components, `Velocity` and `Position`."
   ]
  },
  {
   "cell_type": "code",
   "execution_count": null,
   "metadata": {},
   "outputs": [],
   "source": [
    "class Velocity(Component):\n",
    "    def __init__(self):\n",
    "        theta = random() * math.pi * 2\n",
    "        r = random() * 1 + 0.5\n",
    "        self.v = [r * math.cos(theta), r * math.sin(theta)]"
   ]
  },
  {
   "cell_type": "markdown",
   "metadata": {},
   "source": [
    "For this velocity component, we randomize a vector `v` using polar coordinate: $theta$ and $r$. Then the velocity will be \n",
    "\n",
    "$$(r * \\cos\\theta, r * \\sin\\theta)$$"
   ]
  },
  {
   "cell_type": "markdown",
   "metadata": {},
   "source": [
    "Then we implment our `Position` component. We will put the point at a random position in this $50 \\times 50$ box. So two random numbers will be fine:"
   ]
  },
  {
   "cell_type": "code",
   "execution_count": null,
   "metadata": {},
   "outputs": [],
   "source": [
    "class Position(Component):\n",
    "    def __init__(self):\n",
    "        self.p = [random() * 50, random() * 50]"
   ]
  },
  {
   "cell_type": "markdown",
   "metadata": {},
   "source": [
    "Now we have two components ready. The next thing is to implement the simulation itself. It's tempting to use a single system to handle all the logic. But now consider their movement we have two kinds: \n",
    "\n",
    "1. When moving in the center, we want them to just move along the velocity;\n",
    "2. When hitting a boundary, we want the velocity to be reflected.\n",
    "\n",
    "Since we can clearly separate these two logics, we can make two `System`s tackling each of them.\n",
    "\n",
    "The first one we'll deal with is (1), and we will call it `MovementSystem`:"
   ]
  },
  {
   "cell_type": "code",
   "execution_count": null,
   "metadata": {},
   "outputs": [],
   "source": [
    "class MovementSystem(System):\n",
    "    DATA = [Position, Velocity]\n",
    "    def run(self, positions, velocities):\n",
    "        for (_, pos, vel) in Storage.join(positions, velocities):\n",
    "            pos.p[0] += vel.v[0]\n",
    "            pos.p[1] += vel.v[1]"
   ]
  },
  {
   "cell_type": "markdown",
   "metadata": {},
   "source": [
    "`MovementSystem` needs `Velocity` to update the `Position`: simply add the velocity onto position. So when declaring `DATA`, we will need both component `Position` and component `Velocity`. When iterating through the entities, we will definitely need to use a `Storage.join` to access both components."
   ]
  },
  {
   "cell_type": "markdown",
   "metadata": {},
   "source": [
    "The next one we'll tackle is (2), and we will call it `BounceSystem`:"
   ]
  },
  {
   "cell_type": "code",
   "execution_count": null,
   "metadata": {},
   "outputs": [],
   "source": [
    "class BounceSystem(System):\n",
    "    DATA = [Position, Velocity]\n",
    "    def run(self, positions, velocities):\n",
    "        for (_, pos, vel) in Storage.join(positions, velocities):\n",
    "            if pos.p[0] <= 0 or pos.p[0] >= 50:\n",
    "                vel.v[0] = -vel.v[0]\n",
    "            if pos.p[1] <= 0 or pos.p[1] >= 50:\n",
    "                vel.v[1] = -vel.v[1]"
   ]
  },
  {
   "cell_type": "markdown",
   "metadata": {},
   "source": [
    "Although it might seem complicated, but what we are doing is pretty simple. First we obviously need both `Position` and `Velocity` so we declare them in `DATA`. Then, when iterating through the entities, we will check if `x` is out of bounds. If it is, then we reflect the velocity along `x` direction. The similar will be applied to `y`."
   ]
  },
  {
   "cell_type": "markdown",
   "metadata": {},
   "source": [
    "Now we have all the tools ready. It's time to setup the world! We will register the two systems we implemented here. We will also need to call `setup` for the world to prepare the component storages automatically. Note that we can manually say `bouncy_world.register_component(Velocity)` and do the same to position, but a `setup()` call after system registration will does the work automatically."
   ]
  },
  {
   "cell_type": "code",
   "execution_count": null,
   "metadata": {},
   "outputs": [],
   "source": [
    "bouncy_world = World()\n",
    "bouncy_world.register_system(MovementSystem())\n",
    "bouncy_world.register_system(BounceSystem())\n",
    "bouncy_world.setup()"
   ]
  },
  {
   "cell_type": "markdown",
   "metadata": {},
   "source": [
    "Then we need to setup the initial state of the world. We do that by manually adding in 20 points. For each point, we will allocate an entity. And then we will insert new components to the corresponding stores. In particular, we will add a new position component to position store; we will also add a new velocity component to velocity store.\n",
    "\n",
    "Note that we get the corresponding store by using `.get_storage(ComponentClass)` API."
   ]
  },
  {
   "cell_type": "code",
   "execution_count": null,
   "metadata": {},
   "outputs": [],
   "source": [
    "pos_store = bouncy_world.get_storage(Position)\n",
    "vel_store = bouncy_world.get_storage(Velocity)\n",
    "for _ in range(20):\n",
    "    ent = bouncy_world.create_entity()\n",
    "    pos_store.insert(ent, Position())\n",
    "    vel_store.insert(ent, Velocity())"
   ]
  },
  {
   "cell_type": "markdown",
   "metadata": {},
   "source": [
    "Then, the only thing left is to visualize the simulation! Here we will use a custom utility called `AnimatedScatter` (located in `utils/animated_scatter.py`). This `AnimatedScatter` class helps us to create animated scatter plot more easily. To correct use it, we need to implement a custom function that gives us the positions of the scattered graph.\n",
    "\n",
    "Here we implement this function `get_positions`. It will take in as an argument `frame` representing the frame number. But in our case we don't need to use it. This `get_positions` will be called every time a new frame is going to be generated. So we need to call our `bouncy_world.run()` for every frame.\n",
    "\n",
    "After that, we are going to iterate through our position storage for the individual position of our entities. The final return value of this function will be a Numpy `N x 2` array: an array which has `N` elements, where `N` is the number of points in our world; and `2` represents a point on 2D surface."
   ]
  },
  {
   "cell_type": "code",
   "execution_count": null,
   "metadata": {},
   "outputs": [],
   "source": [
    "def get_positions(frame: int):\n",
    "    bouncy_world.run()\n",
    "    pos_store = bouncy_world.get_storage(Position)\n",
    "    return np.array([pos.p for (_, pos) in pos_store])"
   ]
  },
  {
   "cell_type": "markdown",
   "metadata": {},
   "source": [
    "We will then use `AnimatedScatter` to generate a video. In addition to providing the `get_positions` function, we also provide a `150` which means we want a video with 150 frames. Since we have 30 frames per second so that will be a video about 5 seconds long. If you want longer video, feel free to bump the number up."
   ]
  },
  {
   "cell_type": "code",
   "execution_count": null,
   "metadata": {},
   "outputs": [],
   "source": [
    "anim_scatter = AnimatedScatter(get_positions, 150)"
   ]
  },
  {
   "cell_type": "markdown",
   "metadata": {},
   "source": [
    "Finally, we want the `anim_scatter` to show us an html video. We do that through calling its `show_html_video()`. Enjoy!"
   ]
  },
  {
   "cell_type": "code",
   "execution_count": null,
   "metadata": {},
   "outputs": [],
   "source": [
    "anim_scatter.show_html_video()"
   ]
  }
 ],
 "metadata": {
  "kernelspec": {
   "display_name": "Python 3",
   "language": "python",
   "name": "python3"
  },
  "language_info": {
   "codemirror_mode": {
    "name": "ipython",
    "version": 3
   },
   "file_extension": ".py",
   "mimetype": "text/x-python",
   "name": "python",
   "nbconvert_exporter": "python",
   "pygments_lexer": "ipython3",
   "version": "3.7.3"
  }
 },
 "nbformat": 4,
 "nbformat_minor": 4
}
